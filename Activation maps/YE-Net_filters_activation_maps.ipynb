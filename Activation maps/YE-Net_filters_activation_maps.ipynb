{
 "cells": [
  {
   "cell_type": "code",
   "execution_count": null,
   "metadata": {
    "executionInfo": {
     "elapsed": 4113,
     "status": "ok",
     "timestamp": 1613669702318,
     "user": {
      "displayName": "Harold Brayan Arteaga Arteaga",
      "photoUrl": "https://lh3.googleusercontent.com/a-/AOh14GifuFvtfytHqsNbMuH0lLSooSCVwDhasTFeUS0Xrg=s64",
      "userId": "02881993551096447470"
     },
     "user_tz": 300
    },
    "id": "02c7cOl1Muz1"
   },
   "outputs": [],
   "source": [
    "from scipy import misc, ndimage, signal\n",
    "from sklearn.model_selection  import train_test_split\n",
    "import numpy\n",
    "import numpy as np\n",
    "import random\n",
    "import ntpath\n",
    "import os\n",
    "import pandas as pd\n",
    "import numpy as np\n",
    "import matplotlib as mpl\n",
    "import matplotlib.pyplot as plt\n",
    "import matplotlib.colors as colors\n",
    "from keras import optimizers \n",
    "from keras import regularizers\n",
    "import tensorflow as tf\n",
    "import cv2\n",
    "from time import time\n",
    "import time as tm\n",
    "import datetime\n",
    "from operator import itemgetter\n",
    "import glob\n",
    "from skimage.util.shape import view_as_blocks\n",
    "from keras.utils import np_utils\n",
    "from keras.utils import to_categorical "
   ]
  },
  {
   "cell_type": "markdown",
   "metadata": {},
   "source": [
    "#USE OF CPU, WHEN IS NOT AVAILABLE THE GPU\n",
    "os.environ[\"CUDA_DEVICE_ORDER\"] = \"PCI_BUS_ID\"\n",
    "os.environ['CUDA_VISIBLE_DEVICES'] = '-1'\n",
    "if tf.test.gpu_device_name():\n",
    "    print('GPU found')\n",
    "else:\n",
    "    print(\"No GPU found\")"
   ]
  },
  {
   "cell_type": "code",
   "execution_count": null,
   "metadata": {
    "colab": {
     "base_uri": "https://localhost:8080/"
    },
    "executionInfo": {
     "elapsed": 429,
     "status": "ok",
     "timestamp": 1613669995593,
     "user": {
      "displayName": "Harold Brayan Arteaga Arteaga",
      "photoUrl": "https://lh3.googleusercontent.com/a-/AOh14GifuFvtfytHqsNbMuH0lLSooSCVwDhasTFeUS0Xrg=s64",
      "userId": "02881993551096447470"
     },
     "user_tz": 300
    },
    "id": "75dDxijENXST",
    "outputId": "5a4f55c2-90a1-4de8-f6d1-d8d436892b55"
   },
   "outputs": [],
   "source": [
    "!nvidia-smi\n",
    "#!kill PIDnumber"
   ]
  },
  {
   "cell_type": "code",
   "execution_count": null,
   "metadata": {
    "executionInfo": {
     "elapsed": 367,
     "status": "ok",
     "timestamp": 1613670301141,
     "user": {
      "displayName": "Harold Brayan Arteaga Arteaga",
      "photoUrl": "https://lh3.googleusercontent.com/a-/AOh14GifuFvtfytHqsNbMuH0lLSooSCVwDhasTFeUS0Xrg=s64",
      "userId": "02881993551096447470"
     },
     "user_tz": 300
    },
    "id": "NYErCB6FPmve"
   },
   "outputs": [],
   "source": [
    "path_folder = \"./\"\n",
    "path_img_base = './images/YE'\n",
    "if not os.path.exists(path_img_base):\n",
    "    os.makedirs(path_img_base)"
   ]
  },
  {
   "cell_type": "code",
   "execution_count": null,
   "metadata": {
    "colab": {
     "base_uri": "https://localhost:8080/"
    },
    "executionInfo": {
     "elapsed": 937,
     "status": "ok",
     "timestamp": 1613670302585,
     "user": {
      "displayName": "Harold Brayan Arteaga Arteaga",
      "photoUrl": "https://lh3.googleusercontent.com/a-/AOh14GifuFvtfytHqsNbMuH0lLSooSCVwDhasTFeUS0Xrg=s64",
      "userId": "02881993551096447470"
     },
     "user_tz": 300
    },
    "id": "hWLL9G9yNXnR",
    "outputId": "5e22ab30-70da-4f8e-dad8-703e774fe074"
   },
   "outputs": [],
   "source": [
    "################################################## 30 original SRM FILTERS\n",
    "srm_weights = np.load(path_folder+'/SRM_Kernels1.npy') \n",
    "print (srm_weights.shape)\n",
    "################################################## bias\n",
    "biasSRM=numpy.ones(30)\n",
    "################################################## TLU ACTIVATION FUNCTION\n",
    "def Tanh3(x):\n",
    "    tanh3 = tf.keras.activations.tanh(x)*3\n",
    "    return tanh3\n",
    "##################################################"
   ]
  },
  {
   "cell_type": "code",
   "execution_count": null,
   "metadata": {
    "executionInfo": {
     "elapsed": 748,
     "status": "ok",
     "timestamp": 1613670067511,
     "user": {
      "displayName": "Harold Brayan Arteaga Arteaga",
      "photoUrl": "https://lh3.googleusercontent.com/a-/AOh14GifuFvtfytHqsNbMuH0lLSooSCVwDhasTFeUS0Xrg=s64",
      "userId": "02881993551096447470"
     },
     "user_tz": 300
    },
    "id": "UXLUQhOJNXqC"
   },
   "outputs": [],
   "source": [
    "def get_ye(img_size=256):\n",
    "    tf.keras.backend.clear_session()\n",
    "    \n",
    "    #Inputs\n",
    "    inputs = tf.keras.Input(shape=(img_size,img_size,1), name=\"input_1\")\n",
    "    print(inputs.shape)\n",
    "    \n",
    "    #Block 1\n",
    "    layers = tf.keras.layers.Conv2D(30, (5,5), weights=[srm_weights,biasSRM], strides=(1,1), trainable=False, activation=Tanh3, use_bias=True)(inputs)\n",
    "    print(layers.shape)\n",
    "    \n",
    "    #Block 2\n",
    "    \n",
    "    layers = tf.keras.layers.Conv2D(30, (3,3), strides=(1,1), kernel_initializer='glorot_normal',kernel_regularizer=tf.keras.regularizers.l2(0.0001),bias_regularizer=tf.keras.regularizers.l2(0.0001))(layers) \n",
    "    layers = tf.keras.layers.ReLU(negative_slope=0.1, threshold=0)(layers)\n",
    "    layers = tf.keras.layers.Lambda(tf.keras.backend.abs)(layers)\n",
    "    layers = tf.keras.layers.BatchNormalization(momentum=0.2, epsilon=0.001, center=True, scale=False, trainable=True, fused=None, renorm=False, renorm_clipping=None, renorm_momentum=0.4, adjustment=None)(layers)\n",
    "    layers = tf.keras.layers.Concatenate()([layers, layers, layers])\n",
    "    print(layers.shape)\n",
    "    \n",
    "    #Block 3\n",
    "    layers = tf.keras.layers.SpatialDropout2D(rate=0.1)(layers)\n",
    "    layers = tf.keras.layers.Conv2D(30, (3,3), strides=(1,1), kernel_initializer='glorot_normal',kernel_regularizer=tf.keras.regularizers.l2(0.0001),bias_regularizer=tf.keras.regularizers.l2(0.0001))(layers) \n",
    "    layers = tf.keras.layers.ReLU(negative_slope=0.1, threshold=0)(layers)\n",
    "    layers = tf.keras.layers.Lambda(tf.keras.backend.abs)(layers)\n",
    "    layers = tf.keras.layers.BatchNormalization(momentum=0.2, epsilon=0.001, center=True, scale=False, trainable=True, fused=None, renorm=False, renorm_clipping=None, renorm_momentum=0.4, adjustment=None)(layers)\n",
    "    print(layers.shape)\n",
    "    \n",
    "    #Block 4\n",
    "    layers = tf.keras.layers.SpatialDropout2D(rate=0.1)(layers)\n",
    "    layers = tf.keras.layers.Conv2D(30, (3,3), strides=(1,1), kernel_initializer='glorot_normal',kernel_regularizer=tf.keras.regularizers.l2(0.0001),bias_regularizer=tf.keras.regularizers.l2(0.0001))(layers) \n",
    "    layers = tf.keras.layers.ReLU(negative_slope=0.1, threshold=0)(layers)\n",
    "    layers = tf.keras.layers.Lambda(tf.keras.backend.abs)(layers)\n",
    "    layers = tf.keras.layers.BatchNormalization(momentum=0.2, epsilon=0.001, center=True, scale=False, trainable=True, fused=None, renorm=False, renorm_clipping=None, renorm_momentum=0.4, adjustment=None)(layers)\n",
    "    layers = tf.keras.layers.AveragePooling2D((2,2), strides= (2,2))(layers)\n",
    "    print(layers.shape)\n",
    "    \n",
    "    #Block 5\n",
    "    layers = tf.keras.layers.SpatialDropout2D(rate=0.1)(layers)\n",
    "    layers = tf.keras.layers.Conv2D(32, (5,5), strides=(1,1), kernel_initializer='glorot_normal',kernel_regularizer=tf.keras.regularizers.l2(0.0001),bias_regularizer=tf.keras.regularizers.l2(0.0001))(layers)\n",
    "    layers = tf.keras.layers.ReLU(negative_slope=0.1, threshold=0)(layers)\n",
    "    layers = tf.keras.layers.Lambda(tf.keras.backend.abs)(layers)\n",
    "    layers = tf.keras.layers.BatchNormalization(momentum=0.2, epsilon=0.001, center=True, scale=False, trainable=True, fused=None, renorm=False, renorm_clipping=None, renorm_momentum=0.4, adjustment=None)(layers)\n",
    "    print(layers.shape)\n",
    "    \n",
    "    #Block 6\n",
    "    layers = tf.keras.layers.Concatenate()([layers, layers, layers])\n",
    "    layers = tf.keras.layers.GlobalAveragePooling2D(data_format=\"channels_last\")(layers)\n",
    "    layers = tf.keras.layers.Dense(128,kernel_initializer='glorot_normal',kernel_regularizer=tf.keras.regularizers.l2(0.0001),bias_regularizer=tf.keras.regularizers.l2(0.0001))(layers)\n",
    "    layers = tf.keras.layers.ReLU(negative_slope=0.1, threshold=0)(layers)\n",
    "    layers = tf.keras.layers.Dense(64,kernel_initializer='glorot_normal',kernel_regularizer=tf.keras.regularizers.l2(0.0001),bias_regularizer=tf.keras.regularizers.l2(0.0001))(layers)\n",
    "    layers = tf.keras.layers.ReLU(negative_slope=0.1, threshold=0)(layers)\n",
    "    layers = tf.keras.layers.Dense(32,kernel_initializer='glorot_normal',kernel_regularizer=tf.keras.regularizers.l2(0.0001),bias_regularizer=tf.keras.regularizers.l2(0.0001))(layers)\n",
    "    layers = tf.keras.layers.ReLU(negative_slope=0.1, threshold=0)(layers)\n",
    "    predictions = tf.keras.layers.Dense(2,kernel_initializer='glorot_normal', activation=\"softmax\", name=\"output_1\",kernel_regularizer=tf.keras.regularizers.l2(0.0001),bias_regularizer=tf.keras.regularizers.l2(0.0001))(layers)\n",
    "    print(predictions.shape)\n",
    "    \n",
    "    #Model generation\n",
    "    model = tf.keras.Model(inputs = inputs, outputs=predictions)\n",
    "    #Optimizer\n",
    "    optimizer = tf.keras.optimizers.SGD(learning_rate=0.005, momentum=0.95)#lrate\n",
    "    #Compilator\n",
    "    model.compile(optimizer=optimizer, loss='binary_crossentropy', metrics=['accuracy'])\n",
    "\n",
    "    print (\"Ye-net model 2 generated\")\n",
    "    return model\n"
   ]
  },
  {
   "cell_type": "code",
   "execution_count": null,
   "metadata": {
    "colab": {
     "base_uri": "https://localhost:8080/"
    },
    "executionInfo": {
     "elapsed": 1284,
     "status": "ok",
     "timestamp": 1613670104372,
     "user": {
      "displayName": "Harold Brayan Arteaga Arteaga",
      "photoUrl": "https://lh3.googleusercontent.com/a-/AOh14GifuFvtfytHqsNbMuH0lLSooSCVwDhasTFeUS0Xrg=s64",
      "userId": "02881993551096447470"
     },
     "user_tz": 300
    },
    "id": "fWuYBw76Ou2X",
    "outputId": "2476c1e3-4e2a-4ea1-f4df-28c27764a6f0"
   },
   "outputs": [],
   "source": [
    "model_untrained = get_ye(img_size=256)"
   ]
  },
  {
   "cell_type": "code",
   "execution_count": null,
   "metadata": {
    "executionInfo": {
     "elapsed": 3636,
     "status": "ok",
     "timestamp": 1613670553168,
     "user": {
      "displayName": "Harold Brayan Arteaga Arteaga",
      "photoUrl": "https://lh3.googleusercontent.com/a-/AOh14GifuFvtfytHqsNbMuH0lLSooSCVwDhasTFeUS0Xrg=s64",
      "userId": "02881993551096447470"
     },
     "user_tz": 300
    },
    "id": "TDcN5A7WOu64"
   },
   "outputs": [],
   "source": [
    "path_model_trained2 = path_folder+\"/YE_WOW04.hdf5\"\n",
    "model_trained2 = tf.keras.models.load_model(path_model_trained2, custom_objects={'Tanh3':Tanh3}, compile=True)"
   ]
  },
  {
   "cell_type": "code",
   "execution_count": null,
   "metadata": {
    "colab": {
     "base_uri": "https://localhost:8080/"
    },
    "executionInfo": {
     "elapsed": 6140263,
     "status": "ok",
     "timestamp": 1613676944481,
     "user": {
      "displayName": "Harold Brayan Arteaga Arteaga",
      "photoUrl": "https://lh3.googleusercontent.com/a-/AOh14GifuFvtfytHqsNbMuH0lLSooSCVwDhasTFeUS0Xrg=s64",
      "userId": "02881993551096447470"
     },
     "user_tz": 300
    },
    "id": "6gf16mOgOu9f",
    "outputId": "435ae636-a219-4332-f0f0-6ce8f609311c"
   },
   "outputs": [],
   "source": [
    "path_stego = \"/media/ia/Datos1/DocReinel/Steganalysis/H_Brayan_A_Arteaga/Frankenstein_Project/GBRAS-Net/DATABASES/BOSSbase-1.01/WOW/0.4bpp/stego\"\n",
    "path_cover = \"/media/ia/Datos1/DocReinel/Steganalysis/H_Brayan_A_Arteaga/Frankenstein_Project/GBRAS-Net/DATABASES/BOSSbase-1.01/cover\"\n",
    "\n",
    "n=256\n",
    "def load_images(path_pattern):\n",
    "    files=glob.glob(path_pattern)\n",
    "    X=[]\n",
    "    for f in sorted(files):\n",
    "        I = cv2.imread(f, cv2.IMREAD_GRAYSCALE)\n",
    "        patches = view_as_blocks(I, (n, n))\n",
    "        for i in range(patches.shape[0]):\n",
    "            for j in range(patches.shape[1]):\n",
    "                X.append( [ patches[i,j] ] )\n",
    "    X=numpy.array(X)\n",
    "    return X\n",
    "\n",
    "Xc_ = load_images(path_cover+'/*.pgm') ##COVER IMAGES\n",
    "Xs_ = load_images(path_stego+'/*.pgm') ##STEGO IMAGES\n",
    "X_  = (numpy.vstack((Xc_, Xs_)))\n",
    "Xt_ = (numpy.hstack(([0]*len(Xc_), [1]*len(Xs_))))\n",
    "Xt_ = np_utils.to_categorical(Xt_, 2)\n",
    "X_  = np.rollaxis(X_,1,4)  #channel axis shifted to last axis\n",
    "\n",
    "print(\"Total image data and labels\",X_.shape,Xt_.shape)\n",
    "#Cover hasta las 10000 ##Train hasta las 4000 ##Valid hasta de las 4000 a las 5000 ##Test de las 5000 a las 10000\n",
    "X_train = np.concatenate([X_[0:4000],X_[10000:14000]],axis=0)\n",
    "X_valid = np.concatenate([X_[4000:5000],X_[14000:15000]],axis=0)\n",
    "X_test  = np.concatenate([X_[5000:10000],X_[15000:20000]],axis=0)\n",
    "y_train = np.concatenate([Xt_[0:4000],Xt_[10000:14000]],axis=0)\n",
    "y_valid = np.concatenate([Xt_[4000:5000],Xt_[14000:15000]],axis=0)\n",
    "y_test  = np.concatenate([Xt_[5000:10000],Xt_[15000:20000]],axis=0)\n",
    "#Controled randomized data for training\n",
    "X_dat0, X_dat1, y_dat0, y_dat1 = train_test_split(X_train, y_train, test_size=0.50, random_state=64) \n",
    "X_train = np.concatenate([X_dat0,X_dat1],axis=0) \n",
    "y_train = np.concatenate([y_dat0,y_dat1],axis=0) \n",
    "print(X_train.shape)\n",
    "print(y_train.shape)\n",
    "print(X_valid.shape)\n",
    "print(y_valid.shape)\n",
    "print(X_test.shape)\n",
    "print(y_test.shape)\n"
   ]
  },
  {
   "cell_type": "code",
   "execution_count": null,
   "metadata": {
    "colab": {
     "base_uri": "https://localhost:8080/"
    },
    "executionInfo": {
     "elapsed": 6852038,
     "status": "ok",
     "timestamp": 1613683798906,
     "user": {
      "displayName": "Harold Brayan Arteaga Arteaga",
      "photoUrl": "https://lh3.googleusercontent.com/a-/AOh14GifuFvtfytHqsNbMuH0lLSooSCVwDhasTFeUS0Xrg=s64",
      "userId": "02881993551096447470"
     },
     "user_tz": 300
    },
    "id": "jYiI6g8TSPqO",
    "outputId": "bf4c87f2-f7fa-410a-8430-f9d20e1111bc"
   },
   "outputs": [],
   "source": [
    "loss,accuracy = model_untrained.evaluate(X_test,y_test,verbose=0) #Test BOSSbase 1.01 \n",
    "print(f'Loss={loss:.4f} and Accuracy={accuracy:0.3f}')\n",
    "\n",
    "loss,accuracy = model_trained2.evaluate(X_test,y_test,verbose=0) #Test BOSSbase 1.01 \n",
    "print(f'Loss={loss:.4f} and Accuracy={accuracy:0.3f}')"
   ]
  },
  {
   "cell_type": "code",
   "execution_count": null,
   "metadata": {
    "scrolled": true
   },
   "outputs": [],
   "source": [
    "images = [943,2507]\n",
    "for image in images:\n",
    "    print(image)\n",
    "    plt.imshow(X_test[image,:,:,0]-X_test[5000+image,:,:,0],cmap=\"gray\")\n",
    "    plt.show()"
   ]
  },
  {
   "cell_type": "code",
   "execution_count": null,
   "metadata": {
    "scrolled": true
   },
   "outputs": [],
   "source": [
    "image = 943\n",
    "path_img_base = './images/YE/c_s_cs'\n",
    "if not os.path.exists(path_img_base):\n",
    "    os.makedirs(path_img_base)\n",
    "\n",
    "plt.figure(figsize=(30,30))\n",
    "plt.imshow(X_test[image,:,:,0],cmap=\"gray\")\n",
    "plt.axis(\"off\")\n",
    "plt.savefig(path_img_base+'/cover'+'.pdf', format='pdf') \n",
    "plt.savefig(path_img_base+'/cover'+'.svg', format='svg') \n",
    "plt.show()\n",
    "\n",
    "plt.figure(figsize=(30,30))\n",
    "plt.imshow(X_test[5000+image,:,:,0],cmap=\"gray\")\n",
    "plt.axis(\"off\")\n",
    "plt.savefig(path_img_base+'/stego'+'.pdf', format='pdf') \n",
    "plt.savefig(path_img_base+'/stego'+'.svg', format='svg') \n",
    "plt.show()\n",
    "\n",
    "plt.figure(figsize=(30,30))\n",
    "plt.imshow(X_test[image,:,:,0]-X_test[5000+image,:,:,0],cmap=\"gray\")\n",
    "plt.axis(\"off\")\n",
    "plt.savefig(path_img_base+'/cover_stego'+'.pdf', format='pdf') \n",
    "plt.savefig(path_img_base+'/cover_stego'+'.svg', format='svg') \n",
    "plt.show()"
   ]
  },
  {
   "cell_type": "markdown",
   "metadata": {
    "id": "QPrQHq8FVoBk"
   },
   "source": [
    "# Filtros"
   ]
  },
  {
   "cell_type": "code",
   "execution_count": null,
   "metadata": {},
   "outputs": [],
   "source": [
    "path_img_base = './images/YE/SRM'\n",
    "if not os.path.exists(path_img_base):\n",
    "    os.makedirs(path_img_base)\n",
    "    "
   ]
  },
  {
   "cell_type": "code",
   "execution_count": null,
   "metadata": {
    "id": "teN7bv2mVO4d",
    "scrolled": true
   },
   "outputs": [],
   "source": [
    "srm_weights = np.load('SRM_Kernels1.npy')\n",
    "def display_filters(w, figsize=(100,100)):\n",
    "    plt.figure(figsize=figsize)\n",
    "    w = (w-np.min(w))/(np.max(w)-np.min(w))\n",
    "    cont=0\n",
    "    for i in range(w.shape[-1]):\n",
    "        for j in range(w.shape[-2]):\n",
    "            cont=cont+1\n",
    "            plt.subplot(5,6,cont)\n",
    "            plt.imshow(w[:,:,0,i], interpolation=\"none\", cmap='gray')\n",
    "            plt.axis(\"off\")\n",
    "            plt.savefig(path_img_base+'/SRMoriginals'+'.pdf', format='pdf') \n",
    "            plt.savefig(path_img_base+'/SRMoriginals'+'.svg', format='svg') \n",
    "            plt.savefig(path_img_base+'/SRMoriginals'+'.jpg', format='jpeg')   \n",
    "            plt.savefig(path_img_base+'/SRMoriginals'+'.png', format='png') \n",
    "\n",
    "display_filters(srm_weights)\n",
    "print(srm_weights.shape)  "
   ]
  },
  {
   "cell_type": "markdown",
   "metadata": {
    "id": "bEc5C2lIVlSs"
   },
   "source": [
    "# Mapas de activación"
   ]
  },
  {
   "cell_type": "code",
   "execution_count": null,
   "metadata": {},
   "outputs": [],
   "source": [
    "#cover\n",
    "image = X_test[943,:,:,0]\n",
    "image = np.reshape(image,(1,256,256,1))                 \n",
    "print(np.round(model_untrained.predict(image)))\n",
    "\n",
    "#stego\n",
    "image = X_test[5943,:,:,0]\n",
    "image = np.reshape(image,(1,256,256,1))\n",
    "print(np.round(model_untrained.predict(image)))   "
   ]
  },
  {
   "cell_type": "code",
   "execution_count": null,
   "metadata": {},
   "outputs": [],
   "source": [
    "#cover\n",
    "image = X_test[943,:,:,0]\n",
    "image = np.reshape(image,(1,256,256,1))                 \n",
    "print(np.round(model_trained2.predict(image)))\n",
    "\n",
    "#stego\n",
    "image = X_test[5943,:,:,0]\n",
    "image = np.reshape(image,(1,256,256,1))\n",
    "print(np.round(model_trained2.predict(image)))   "
   ]
  },
  {
   "cell_type": "code",
   "execution_count": null,
   "metadata": {},
   "outputs": [],
   "source": [
    "path_img_base = './images/YE/NOISE'\n",
    "if not os.path.exists(path_img_base):\n",
    "    os.makedirs(path_img_base)"
   ]
  },
  {
   "cell_type": "code",
   "execution_count": null,
   "metadata": {},
   "outputs": [],
   "source": [
    "fig, (ax1, ax2, ax3) = plt.subplots(1, 3, figsize=(200,200))\n",
    "fig.figsize=(2500,2500)\n",
    "ax1.imshow(X_test[943,:,:,0],cmap='gray')\n",
    "ax1.set_title('Cover Image',fontsize=160,y=1.02)\n",
    "ax1.axis(\"off\")\n",
    "ax2.imshow(X_test[5943,:,:,0],cmap='gray')\n",
    "ax2.set_title('Stego Image',fontsize=160,y=1.02)\n",
    "ax2.axis(\"off\")\n",
    "ax3.imshow(X_test[943,:,:,0]-X_test[5943,:,:,0],cmap='gray')\n",
    "ax3.set_title('Steganographic Noise',fontsize=160,y=1.02)\n",
    "ax3.axis(\"off\")\n",
    "fig.suptitle('Cover Image - Stego Image = Steganographic Noise',y=0.65,x=0.51,fontweight=\"bold\",fontsize=180)\n",
    "plt.show()\n",
    "\n",
    "fig.savefig(path_img_base+'/noise'+'.pdf', format='pdf')  \n",
    "fig.savefig(path_img_base+'/noise'+'.svg', format='svg') \n",
    "fig.savefig(path_img_base+'/noise'+'.jpg', format='jpeg')   \n",
    "fig.savefig(path_img_base+'/noise'+'.png', format='png') "
   ]
  },
  {
   "cell_type": "code",
   "execution_count": null,
   "metadata": {
    "id": "yFs4bUXyV-Oa",
    "scrolled": true
   },
   "outputs": [],
   "source": [
    "for i, layer in enumerate(model_trained2.layers): \n",
    "    print(i, layer.name) "
   ]
  },
  {
   "cell_type": "code",
   "execution_count": null,
   "metadata": {
    "id": "FXJNGkM2V-fi"
   },
   "outputs": [],
   "source": [
    "# summarize filter shapes\n",
    "for layer in model_trained2.layers:\n",
    "    # check for convolutional layer\n",
    "    if 'conv' not in layer.name:\n",
    "        continue\n",
    "    if 'separable_conv2d' in layer.name: \n",
    "        continue\n",
    "    # get filter weights\n",
    "    filters, biases = layer.get_weights()\n",
    "    print(layer.name, filters.shape) "
   ]
  },
  {
   "cell_type": "code",
   "execution_count": null,
   "metadata": {
    "id": "5TtjdTwDWSyZ",
    "scrolled": true
   },
   "outputs": [],
   "source": [
    "model_trained2.summary()"
   ]
  },
  {
   "cell_type": "code",
   "execution_count": null,
   "metadata": {
    "id": "JdjI8TUbWS1e"
   },
   "outputs": [],
   "source": [
    "def visualize_conv_layer(num,layer_name,image,row,col):\n",
    "    plt.figure()\n",
    "    #plt.imshow(image[:,:,0],cmap='gray')\n",
    "    layer_output=model.get_layer(layer_name).output\n",
    "    intermediate_model=tf.keras.models.Model(inputs=model.input,outputs=layer_output)\n",
    "    image=numpy.reshape(image,(1,256,256,1))\n",
    "    intermediate_prediction=intermediate_model.predict(image)\n",
    "    print('Shape activations maps:',intermediate_prediction.shape)\n",
    "    row_size=row\n",
    "    col_size=col\n",
    "    img_index=0\n",
    "    fig,ax=plt.subplots(row_size,col_size,figsize=(30,30))\n",
    "    for row in range(0,row_size):\n",
    "        for col in range(0,col_size):\n",
    "            ax[row][col].imshow(intermediate_prediction[0, :, :, img_index], cmap='gray')\n",
    "            img_index=img_index+1\n",
    "    \n",
    "    if not os.path.exists(path_images+'/'+str(num)):\n",
    "        os.makedirs(path_images+'/'+str(num))\n",
    "    \n",
    "    plt.savefig(path_images+'/'+str(num)+'/'+'ACT-MAP_All_'+layer_name+'.eps', format='eps')\n",
    "    plt.savefig(path_images+'/'+str(num)+'/'+'ACT-MAP_All_'+layer_name+'.svg', format='svg')\n",
    "    plt.savefig(path_images+'/'+str(num)+'/'+'ACT-MAP_All_'+layer_name+'.pdf', format='pdf')  \n",
    "    plt.show()\n",
    "    \n",
    "    plt.figure(figsize=(30,30))\n",
    "    plt.imshow(intermediate_prediction[0, :, :, 0], cmap='gray')\n",
    "    print(layer_name)\n",
    "    print(intermediate_prediction[0, :, :, 0])\n",
    "    plt.savefig(path_images+'/'+str(num)+'/'+'ACT-MAP_First_'+layer_name+'.eps', format='eps')\n",
    "    plt.savefig(path_images+'/'+str(num)+'/'+'ACT-MAP_First_'+layer_name+'.svg', format='svg')\n",
    "    plt.savefig(path_images+'/'+str(num)+'/'+'ACT-MAP_First_'+layer_name+'.pdf', format='pdf')  \n",
    "    plt.show() "
   ]
  },
  {
   "cell_type": "code",
   "execution_count": null,
   "metadata": {},
   "outputs": [],
   "source": [
    "def visualize_conv_layer_1x2(num,layer_name,image,row=1,col=2):\n",
    "\n",
    "    plt.figure()\n",
    "    layer_output=model.get_layer(layer_name).output\n",
    "    intermediate_model=tf.keras.models.Model(inputs=model.input,outputs=layer_output)\n",
    "    image=numpy.reshape(image,(1,256,256,1))\n",
    "    intermediate_prediction=intermediate_model.predict(image)\n",
    "    print('Shape activations maps:',intermediate_prediction.shape)\n",
    "\n",
    "    fig, (ax1, ax2) = plt.subplots(row, col, figsize=(30,30))\n",
    "    fig.figsize=(2500,2500)\n",
    "    ax1.imshow(intermediate_prediction[0, :, :, 0], cmap='gray')\n",
    "    ax1.axis(\"off\")\n",
    "    ax2.imshow(intermediate_prediction[0, :, :, 1], cmap='gray')\n",
    "    ax2.axis(\"off\")\n",
    "\n",
    "    if not os.path.exists(path_images+'/'+str(num)):\n",
    "        os.makedirs(path_images+'/'+str(num))\n",
    "\n",
    "    plt.savefig(path_images+'/'+str(num)+'/'+'ACT-MAP_All_'+layer_name+'.eps', format='eps')\n",
    "    plt.savefig(path_images+'/'+str(num)+'/'+'ACT-MAP_All_'+layer_name+'.svg', format='svg')\n",
    "    plt.savefig(path_images+'/'+str(num)+'/'+'ACT-MAP_All_'+layer_name+'.pdf', format='pdf')  \n",
    "    plt.show()\n",
    "\n",
    "    plt.figure(figsize=(30,30))\n",
    "    plt.imshow(intermediate_prediction[0, :, :, 0], cmap='gray')\n",
    "    print(layer_name)\n",
    "    print(intermediate_prediction[0, :, :, 0])\n",
    "    plt.savefig(path_images+'/'+str(num)+'/'+'ACT-MAP_First_'+layer_name+'.eps', format='eps')\n",
    "    plt.savefig(path_images+'/'+str(num)+'/'+'ACT-MAP_First_'+layer_name+'.svg', format='svg')\n",
    "    plt.savefig(path_images+'/'+str(num)+'/'+'ACT-MAP_First_'+layer_name+'.pdf', format='pdf')  \n",
    "    plt.show() "
   ]
  },
  {
   "cell_type": "code",
   "execution_count": null,
   "metadata": {},
   "outputs": [],
   "source": [
    "image_cover = X_test[943] \n",
    "image_stego = X_test[5943] "
   ]
  },
  {
   "cell_type": "code",
   "execution_count": null,
   "metadata": {},
   "outputs": [],
   "source": [
    "image_cover_stego = image_cover-image_stego"
   ]
  },
  {
   "cell_type": "code",
   "execution_count": null,
   "metadata": {},
   "outputs": [],
   "source": []
  },
  {
   "cell_type": "code",
   "execution_count": null,
   "metadata": {},
   "outputs": [],
   "source": [
    "### COVER IMAGE\n",
    "path_images = './images/YE/cover_stego/ACT_MAPS/NO_ENTRENADO/cover'\n",
    "if not os.path.exists(path_images):\n",
    "    os.makedirs(path_images)\n",
    "    \n",
    "model = model_untrained\n",
    "\n",
    "image_ = image_cover\n",
    "visualize_conv_layer(0,'conv2d',image_,5,6)\n",
    "visualize_conv_layer(1,'conv2d_1',image_,5,6)\n",
    "visualize_conv_layer(2,'re_lu',image_,5,6)\n",
    "visualize_conv_layer(3,'lambda',image_,5,6)\n",
    "visualize_conv_layer(4,'batch_normalization',image_,5,6)\n",
    "visualize_conv_layer(5,'concatenate',image_,9,10)\n",
    "visualize_conv_layer(6,'spatial_dropout2d',image_,9,10)\n",
    "visualize_conv_layer(7,'conv2d_2',image_,5,6)\n",
    "visualize_conv_layer(8,'re_lu_1',image_,5,6)\n",
    "visualize_conv_layer(9,'lambda_1',image_,5,6)\n",
    "visualize_conv_layer(10,'batch_normalization_1',image_,5,6)\n",
    "visualize_conv_layer(11,'spatial_dropout2d_1',image_,5,6)\n",
    "visualize_conv_layer(12,'conv2d_3',image_,5,6)\n",
    "visualize_conv_layer(13,'re_lu_2',image_,5,6)\n",
    "visualize_conv_layer(14,'lambda_2',image_,5,6)\n",
    "visualize_conv_layer(15,'batch_normalization_2',image_,5,6)\n",
    "visualize_conv_layer(16,'average_pooling2d',image_,5,6)\n",
    "visualize_conv_layer(17,'spatial_dropout2d_2',image_,5,6)\n",
    "visualize_conv_layer(18,'conv2d_4',image_,4,8)\n",
    "visualize_conv_layer(19,'re_lu_3',image_,4,8)\n",
    "visualize_conv_layer(20,'lambda_3',image_,4,8)\n",
    "visualize_conv_layer(21,'batch_normalization_3',image_,4,8)\n",
    "visualize_conv_layer(22,'concatenate_1',image_,8,12)\n"
   ]
  },
  {
   "cell_type": "code",
   "execution_count": null,
   "metadata": {
    "id": "yT-PI-aRWb1C"
   },
   "outputs": [],
   "source": [
    "### STEGO IMAGE\n",
    "path_images = './images/YE/cover_stego/ACT_MAPS/NO_ENTRENADO/stego'\n",
    "if not os.path.exists(path_images):\n",
    "    os.makedirs(path_images)\n",
    "    \n",
    "model = model_untrained\n",
    "\n",
    "image_ = image_stego\n",
    "visualize_conv_layer(0,'conv2d',image_,5,6)\n",
    "visualize_conv_layer(1,'conv2d_1',image_,5,6)\n",
    "visualize_conv_layer(2,'re_lu',image_,5,6)\n",
    "visualize_conv_layer(3,'lambda',image_,5,6)\n",
    "visualize_conv_layer(4,'batch_normalization',image_,5,6)\n",
    "visualize_conv_layer(5,'concatenate',image_,9,10)\n",
    "visualize_conv_layer(6,'spatial_dropout2d',image_,9,10)\n",
    "visualize_conv_layer(7,'conv2d_2',image_,5,6)\n",
    "visualize_conv_layer(8,'re_lu_1',image_,5,6)\n",
    "visualize_conv_layer(9,'lambda_1',image_,5,6)\n",
    "visualize_conv_layer(10,'batch_normalization_1',image_,5,6)\n",
    "visualize_conv_layer(11,'spatial_dropout2d_1',image_,5,6)\n",
    "visualize_conv_layer(12,'conv2d_3',image_,5,6)\n",
    "visualize_conv_layer(13,'re_lu_2',image_,5,6)\n",
    "visualize_conv_layer(14,'lambda_2',image_,5,6)\n",
    "visualize_conv_layer(15,'batch_normalization_2',image_,5,6)\n",
    "visualize_conv_layer(16,'average_pooling2d',image_,5,6)\n",
    "visualize_conv_layer(17,'spatial_dropout2d_2',image_,5,6)\n",
    "visualize_conv_layer(18,'conv2d_4',image_,4,8)\n",
    "visualize_conv_layer(19,'re_lu_3',image_,4,8)\n",
    "visualize_conv_layer(20,'lambda_3',image_,4,8)\n",
    "visualize_conv_layer(21,'batch_normalization_3',image_,4,8)\n",
    "visualize_conv_layer(22,'concatenate_1',image_,8,12)\n"
   ]
  },
  {
   "cell_type": "code",
   "execution_count": null,
   "metadata": {},
   "outputs": [],
   "source": [
    "### COVER IMAGE\n",
    "path_images = './images/YE/cover_stego/ACT_MAPS/SI_ENTRENADO/cover'\n",
    "if not os.path.exists(path_images):\n",
    "    os.makedirs(path_images)\n",
    "    \n",
    "model = model_trained2\n",
    "\n",
    "image_ = image_cover\n",
    "visualize_conv_layer(0,'conv2d',image_,5,6)\n",
    "visualize_conv_layer(1,'conv2d_1',image_,5,6)\n",
    "visualize_conv_layer(2,'re_lu',image_,5,6)\n",
    "visualize_conv_layer(3,'lambda',image_,5,6)\n",
    "visualize_conv_layer(4,'batch_normalization',image_,5,6)\n",
    "visualize_conv_layer(5,'concatenate',image_,9,10)\n",
    "visualize_conv_layer(6,'spatial_dropout2d',image_,9,10)\n",
    "visualize_conv_layer(7,'conv2d_2',image_,5,6)\n",
    "visualize_conv_layer(8,'re_lu_1',image_,5,6)\n",
    "visualize_conv_layer(9,'lambda_1',image_,5,6)\n",
    "visualize_conv_layer(10,'batch_normalization_1',image_,5,6)\n",
    "visualize_conv_layer(11,'spatial_dropout2d_1',image_,5,6)\n",
    "visualize_conv_layer(12,'conv2d_3',image_,5,6)\n",
    "visualize_conv_layer(13,'re_lu_2',image_,5,6)\n",
    "visualize_conv_layer(14,'lambda_2',image_,5,6)\n",
    "visualize_conv_layer(15,'batch_normalization_2',image_,5,6)\n",
    "visualize_conv_layer(16,'average_pooling2d',image_,5,6)\n",
    "visualize_conv_layer(17,'spatial_dropout2d_2',image_,5,6)\n",
    "visualize_conv_layer(18,'conv2d_4',image_,4,8)\n",
    "visualize_conv_layer(19,'re_lu_3',image_,4,8)\n",
    "visualize_conv_layer(20,'lambda_3',image_,4,8)\n",
    "visualize_conv_layer(21,'batch_normalization_3',image_,4,8)\n",
    "visualize_conv_layer(22,'concatenate_1',image_,8,12)\n"
   ]
  },
  {
   "cell_type": "code",
   "execution_count": null,
   "metadata": {
    "id": "-aT9eM5oWb6p"
   },
   "outputs": [],
   "source": [
    "### STEGO IMAGE\n",
    "path_images = './images/YE/cover_stego/ACT_MAPS/SI_ENTRENADO/stego'\n",
    "if not os.path.exists(path_images):\n",
    "    os.makedirs(path_images)\n",
    "    \n",
    "model = model_trained2\n",
    "\n",
    "image_ = image_stego\n",
    "visualize_conv_layer(0,'conv2d',image_,5,6)\n",
    "visualize_conv_layer(1,'conv2d_1',image_,5,6)\n",
    "visualize_conv_layer(2,'re_lu',image_,5,6)\n",
    "visualize_conv_layer(3,'lambda',image_,5,6)\n",
    "visualize_conv_layer(4,'batch_normalization',image_,5,6)\n",
    "visualize_conv_layer(5,'concatenate',image_,9,10)\n",
    "visualize_conv_layer(6,'spatial_dropout2d',image_,9,10)\n",
    "visualize_conv_layer(7,'conv2d_2',image_,5,6)\n",
    "visualize_conv_layer(8,'re_lu_1',image_,5,6)\n",
    "visualize_conv_layer(9,'lambda_1',image_,5,6)\n",
    "visualize_conv_layer(10,'batch_normalization_1',image_,5,6)\n",
    "visualize_conv_layer(11,'spatial_dropout2d_1',image_,5,6)\n",
    "visualize_conv_layer(12,'conv2d_3',image_,5,6)\n",
    "visualize_conv_layer(13,'re_lu_2',image_,5,6)\n",
    "visualize_conv_layer(14,'lambda_2',image_,5,6)\n",
    "visualize_conv_layer(15,'batch_normalization_2',image_,5,6)\n",
    "visualize_conv_layer(16,'average_pooling2d',image_,5,6)\n",
    "visualize_conv_layer(17,'spatial_dropout2d_2',image_,5,6)\n",
    "visualize_conv_layer(18,'conv2d_4',image_,4,8)\n",
    "visualize_conv_layer(19,'re_lu_3',image_,4,8)\n",
    "visualize_conv_layer(20,'lambda_3',image_,4,8)\n",
    "visualize_conv_layer(21,'batch_normalization_3',image_,4,8)\n",
    "visualize_conv_layer(22,'concatenate_1',image_,8,12)\n"
   ]
  },
  {
   "cell_type": "code",
   "execution_count": null,
   "metadata": {},
   "outputs": [],
   "source": [
    "### COVER- STEGO IMAGE\n",
    "path_images = './images/YE/cover_stego/ACT_MAPS/SI_ENTRENADO/image_cover_stego'\n",
    "if not os.path.exists(path_images):\n",
    "    os.makedirs(path_images)\n",
    "    \n",
    "model = model_trained2\n",
    "\n",
    "image_ = image_cover_stego\n",
    "visualize_conv_layer(0,'conv2d',image_,5,6)\n",
    "visualize_conv_layer(1,'conv2d_1',image_,5,6)\n",
    "visualize_conv_layer(2,'re_lu',image_,5,6)\n",
    "visualize_conv_layer(3,'lambda',image_,5,6)\n",
    "visualize_conv_layer(4,'batch_normalization',image_,5,6)\n",
    "visualize_conv_layer(5,'concatenate',image_,9,10)\n",
    "visualize_conv_layer(6,'spatial_dropout2d',image_,9,10)\n",
    "visualize_conv_layer(7,'conv2d_2',image_,5,6)\n",
    "visualize_conv_layer(8,'re_lu_1',image_,5,6)\n",
    "visualize_conv_layer(9,'lambda_1',image_,5,6)\n",
    "visualize_conv_layer(10,'batch_normalization_1',image_,5,6)\n",
    "visualize_conv_layer(11,'spatial_dropout2d_1',image_,5,6)\n",
    "visualize_conv_layer(12,'conv2d_3',image_,5,6)\n",
    "visualize_conv_layer(13,'re_lu_2',image_,5,6)\n",
    "visualize_conv_layer(14,'lambda_2',image_,5,6)\n",
    "visualize_conv_layer(15,'batch_normalization_2',image_,5,6)\n",
    "visualize_conv_layer(16,'average_pooling2d',image_,5,6)\n",
    "visualize_conv_layer(17,'spatial_dropout2d_2',image_,5,6)\n",
    "visualize_conv_layer(18,'conv2d_4',image_,4,8)\n",
    "visualize_conv_layer(19,'re_lu_3',image_,4,8)\n",
    "visualize_conv_layer(20,'lambda_3',image_,4,8)\n",
    "visualize_conv_layer(21,'batch_normalization_3',image_,4,8)\n",
    "visualize_conv_layer(22,'concatenate_1',image_,8,12)\n"
   ]
  },
  {
   "cell_type": "code",
   "execution_count": null,
   "metadata": {
    "id": "bFBvtW0HWifO"
   },
   "outputs": [],
   "source": []
  }
 ],
 "metadata": {
  "colab": {
   "authorship_tag": "ABX9TyOxROqVlSxI6otH//inVsEF",
   "collapsed_sections": [],
   "mount_file_id": "1-wOT7C_E6vuMFQhhFSMsAiXf3muYkgOo",
   "name": "GBRAScongreso.ipynb",
   "provenance": []
  },
  "kernelspec": {
   "display_name": "Python 3",
   "language": "python",
   "name": "python3"
  },
  "language_info": {
   "codemirror_mode": {
    "name": "ipython",
    "version": 3
   },
   "file_extension": ".py",
   "mimetype": "text/x-python",
   "name": "python",
   "nbconvert_exporter": "python",
   "pygments_lexer": "ipython3",
   "version": "3.8.1"
  }
 },
 "nbformat": 4,
 "nbformat_minor": 1
}
